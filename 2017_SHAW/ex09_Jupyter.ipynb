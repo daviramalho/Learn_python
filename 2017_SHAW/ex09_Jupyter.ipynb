{
 "cells": [
  {
   "cell_type": "markdown",
   "metadata": {},
   "source": [
    "# Ex.09 - Printing, Printing, Printing\n",
    "------\n",
    "\n",
    "### General Instructions\n",
    "- Just type the code and make it run;\n",
    "- Use \"\\n\" inside the string to jump the rest of it to the next line;\n",
    "- You can use \"\"\" (Three double-quotes) to organize the string and write anything inside of it into separated lines.\n",
    "\n",
    "### Code Learned\n",
    "```python\n",
    "var1 = \"One Two Three Four Five\"\n",
    "var2 = \"Eleven\\nTwelve\\nThirteen\\nFourteen\\nFifteen\"\n",
    "print(\"Something here\", var1)\n",
    "print(\"Or here\", var2)\n",
    "print(\"\"\"\n",
    "Write something here.\n",
    "Even if you don't want to.\n",
    "Try that with\n",
    "\"\"\")\n",
    "```\n",
    "\n",
    "### Math Operations & Other Symbols\n",
    "\n",
    "| Symbol  |     Symbol name   |Pronunciation | What it does?          |\n",
    "|---------|:-----------------:|-------------:|:----------------------:|\n",
    "| \\\"=\\\"   |Equal to           |  Equals      |Equality                |\n",
    "| \\\"\\\"\\\"  |Three double-quotes|-             |Write in many lines     |\n",
    "| \\\"#\\\"   |Hash               |-             |Comments                |\n",
    "| \\\"\\\\n\\\" |Backslash + n      |-             |Jump lines inside string|\n",
    "\n",
    "### Function (LaTex)\n",
    "\n",
    "------\n",
    "*Shaw, Z. A. (2017).* **Learn Python 3 The Hard Way** - A very simple introduction to the terrifyingly beautiful world of computers and code. Boston: Addison-Wesley."
   ]
  },
  {
   "cell_type": "code",
   "execution_count": 8,
   "metadata": {},
   "outputs": [
    {
     "name": "stdout",
     "output_type": "stream",
     "text": [
      "Here are the days: Mon Tue Wed Thu Fri Sat Sun\n",
      "Here are the months: \n",
      "Jan\n",
      "Feb\n",
      "Mar\n",
      "Apr\n",
      "May\n",
      "Jun\n",
      "Jul\n",
      "Aug\n",
      "\n",
      "There's something goingo on here.\n",
      "With the three double-quotes.\n",
      "We'll be able to type as much as we like.\n",
      "Even 4 lines if we want, or 5, or 6.\n",
      "\n"
     ]
    }
   ],
   "source": [
    "# Here's some new strange stuff, remember type it exactly.\n",
    "\n",
    "days = \"Mon Tue Wed Thu Fri Sat Sun\"\n",
    "months = \"\\nJan\\nFeb\\nMar\\nApr\\nMay\\nJun\\nJul\\nAug\"\n",
    "\n",
    "print(\"Here are the days:\",days)\n",
    "print(\"Here are the months:\",months)\n",
    "print(\"\"\"\n",
    "There's something goingo on here.\n",
    "With the three double-quotes.\n",
    "We'll be able to type as much as we like.\n",
    "Even 4 lines if we want, or 5, or 6.\n",
    "\"\"\")"
   ]
  },
  {
   "cell_type": "markdown",
   "metadata": {},
   "source": [
    "> **Study Drills**\n",
    "> - Just apply what you've learned."
   ]
  },
  {
   "cell_type": "code",
   "execution_count": 4,
   "metadata": {},
   "outputs": [
    {
     "name": "stdout",
     "output_type": "stream",
     "text": [
      "Something here One Two Three Four Five\n",
      "Or here Eleven\n",
      "Twelve\n",
      "Thirteen\n",
      "Fourteen\n",
      "Fifteen\n",
      "\n",
      "Write something here.\n",
      "Even if you don't want to.\n",
      "Try that with\n",
      "\n"
     ]
    }
   ],
   "source": [
    "var1 = \"One Two Three Four Five\"\n",
    "var2 = \"Eleven\\nTwelve\\nThirteen\\nFourteen\\nFifteen\"\n",
    "print(\"Something here\", var1)\n",
    "print(\"Or here\", var2)\n",
    "print(\"\"\"\n",
    "Write something here.\n",
    "Even if you don't want to.\n",
    "Try that with\n",
    "\"\"\")"
   ]
  }
 ],
 "metadata": {
  "kernelspec": {
   "display_name": "Python 3",
   "language": "python",
   "name": "python3"
  },
  "language_info": {
   "codemirror_mode": {
    "name": "ipython",
    "version": 3
   },
   "file_extension": ".py",
   "mimetype": "text/x-python",
   "name": "python",
   "nbconvert_exporter": "python",
   "pygments_lexer": "ipython3",
   "version": "3.7.3"
  }
 },
 "nbformat": 4,
 "nbformat_minor": 2
}
