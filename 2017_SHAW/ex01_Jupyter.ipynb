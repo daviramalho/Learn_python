{
 "cells": [
  {
   "cell_type": "markdown",
   "metadata": {},
   "source": [
    "# Exercise 01\n",
    "------\n",
    "- Using a text editor (I'm using ATOM), save a fale named ex1.py;\n",
    "- Type the content as follows. Don't use \"CTRL+C/CTRL+V\";\n",
    "- Save the file and run it on the terminal using this:\n",
    "\n",
    "> python ex1.py"
   ]
  },
  {
   "cell_type": "code",
   "execution_count": 1,
   "metadata": {},
   "outputs": [
    {
     "name": "stdout",
     "output_type": "stream",
     "text": [
      "Hello World!\n",
      "Hello Again\n",
      "I like typing this.\n",
      "This is fun.\n",
      "Yay! Printing.\n",
      "I'd much rather you 'not'.\n",
      "I \"said\" do not touch this\n"
     ]
    }
   ],
   "source": [
    "print(\"Hello World!\")\n",
    "print(\"Hello Again\")\n",
    "print(\"I like typing this.\")\n",
    "print(\"This is fun.\")\n",
    "print('Yay! Printing.')\n",
    "print(\"I'd much rather you 'not'.\")\n",
    "print('I \"said\" do not touch this')"
   ]
  },
  {
   "cell_type": "markdown",
   "metadata": {},
   "source": [
    "- Now create a new line;\n",
    "- Make the script print only one of the lines;\n",
    "- Put a # (charp) at the beggining of the line and check what it does;\n",
    "- Don't use \"CTRL+C/CTRL+V\" to copy the last content. Type it all again!"
   ]
  },
  {
   "cell_type": "code",
   "execution_count": 2,
   "metadata": {},
   "outputs": [
    {
     "name": "stdout",
     "output_type": "stream",
     "text": [
      "Hello World!\n",
      "My name is Davi. What about yours?\n"
     ]
    }
   ],
   "source": [
    "print(\"Hello World!\")\n",
    "#print(\"Hello Again\")\n",
    "#print(\"I like typing this.\")\n",
    "#print(\"This is fun.\")\n",
    "#print('Yay! Printing.')\n",
    "#print(\"I'd much rather you 'not'.\")\n",
    "#print('I \"said\" do not touch this.')\n",
    "print(\"My name is Davi. What about yours?\")"
   ]
  },
  {
   "cell_type": "code",
   "execution_count": null,
   "metadata": {},
   "outputs": [],
   "source": []
  }
 ],
 "metadata": {
  "kernelspec": {
   "display_name": "Python 3",
   "language": "python",
   "name": "python3"
  },
  "language_info": {
   "codemirror_mode": {
    "name": "ipython",
    "version": 3
   },
   "file_extension": ".py",
   "mimetype": "text/x-python",
   "name": "python",
   "nbconvert_exporter": "python",
   "pygments_lexer": "ipython3",
   "version": "3.7.3"
  }
 },
 "nbformat": 4,
 "nbformat_minor": 2
}
