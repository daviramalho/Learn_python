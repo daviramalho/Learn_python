{
 "cells": [
  {
   "cell_type": "markdown",
   "metadata": {},
   "source": [
    "# Ex.07 - More Printing\n",
    "------\n",
    "\n",
    "### General Instructions\n",
    "- Just type the code and make it run.\n",
    "\n",
    "### Code Learned\n",
    "```python\n",
    "var1 = x\n",
    "var2 = y\n",
    "var3 = z\n",
    "var4 = w\n",
    "var5 = t\n",
    "print(var1 + var2 + var3, end = '')\n",
    "print(var4 + var5)\n",
    "print(\"Print something here {}.\".format('in the end'))\n",
    "```\n",
    "\n",
    "### Math Operations & Other Symbols\n",
    "\n",
    "| Symbol | Symbol name |Pronunciation | What it does? |\n",
    "|--------|:-----------:|-------------:|:-------------:|\n",
    "| \\\"=\\\"  |Equal to     |  Equals      |Equality       |\n",
    "| \\\"+\\\"  |Plus         |Plus          |Addition       |\n",
    "| \\\"*\\\"  |Asterisk     |Times         |Multiplication |\n",
    "| \\\"#\\\"  |Hash|-|-|\n",
    "\n",
    "### Function (LaTex)\n",
    "\n",
    "------\n",
    "*Shaw, Z. A. (2017).* **Learn Python 3 The Hard Way** - A very simple introduction to the terrifyingly beautiful world of computers and code. Boston: Addison-Wesley."
   ]
  },
  {
   "cell_type": "code",
   "execution_count": null,
   "metadata": {},
   "outputs": [],
   "source": [
    "print(\"Mary had a little lamb.\")\n",
    "print(\"Its fleece was white as {}.\".format('snow'))\n",
    "print(\"And everywhere that Mary went.\")\n",
    "print(\".\" * 10) #what'd that do?\n",
    "\n",
    "end1 = \"C\"\n",
    "end2 = \"h\"\n",
    "end3 = \"e\"\n",
    "end4 = \"e\"\n",
    "end5 = \"s\"\n",
    "end6 = \"e\"\n",
    "end7 = \"B\"\n",
    "end8 = \"u\"\n",
    "end9 = \"r\"\n",
    "end10 = \"g\"\n",
    "end11 = \"e\"\n",
    "end12 = \"r\"\n",
    "\n",
    "# watch that comma at the end. Try removing it to see what happens\n",
    "print(end1 + end2 + end3 + end4 + end5 + end6, end = '')\n",
    "print(end7 + end8 + end9 + end10 + end11 + end12)"
   ]
  },
  {
   "cell_type": "markdown",
   "metadata": {},
   "source": [
    "> **Study Drills**\n",
    "> - Just apply what you've learned."
   ]
  },
  {
   "cell_type": "code",
   "execution_count": null,
   "metadata": {},
   "outputs": [],
   "source": [
    "print(\"Its fleece was {}, {} {} white as {}.\".format('sweet', 'soft', 'and', 'snow'))\n",
    "print(end1 + end2 + end3 + end8, end = '')\n",
    "print(end7 + (end3 * 42))\n",
    "\n",
    "var1 = end1 + (end8 * 42)\n",
    "print(\"Its fleece was {}, {} {} white as {}.\".format('sweet', 'soft', 'and', var1))"
   ]
  },
  {
   "cell_type": "code",
   "execution_count": null,
   "metadata": {},
   "outputs": [],
   "source": [
    "var1 = 'x'\n",
    "var2 = 'y'\n",
    "var3 = 'z'\n",
    "var4 = 'w'\n",
    "var5 = 't'\n",
    "print(var1 + var2 + var3, end = '')\n",
    "print(var4 + var5)\n",
    "print(\"Print something here {}.\".format('in the end'))"
   ]
  }
 ],
 "metadata": {
  "kernelspec": {
   "display_name": "Python 3",
   "language": "python",
   "name": "python3"
  },
  "language_info": {
   "codemirror_mode": {
    "name": "ipython",
    "version": 3
   },
   "file_extension": ".py",
   "mimetype": "text/x-python",
   "name": "python",
   "nbconvert_exporter": "python",
   "pygments_lexer": "ipython3",
   "version": "3.7.3"
  }
 },
 "nbformat": 4,
 "nbformat_minor": 2
}
