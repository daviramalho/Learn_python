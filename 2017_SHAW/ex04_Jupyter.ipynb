{
 "cells": [
  {
   "cell_type": "markdown",
   "metadata": {},
   "source": [
    "# Ex.04 - Variables & Names\n",
    "------\n",
    "### General Instructions\n",
    "- Write a code above each line to explain to yourself what it does in English;\n",
    "- Read the *.py file backward;\n",
    "- Read the *.py file out loud, saying even the characters;\n",
    "- Check the comments above specific lines to understand better the code.\n",
    "\n",
    "### Code Learned\n",
    "```python\n",
    "var = n\n",
    "print (var) #Function\n",
    "```\n",
    "### Math Operations\n",
    "\n",
    "| Symbol | Symbol name |Pronunciation | What it does? |\n",
    "|--------|:-----------:|-------------:|:-------------:|\n",
    "| \\\"=\\\"  |Equal to     |  Equals      |Equality       |\n",
    "| \\\"-\\\"  |Minus        |Minus         |Subtraction    |\n",
    "|\\\"*\\\"   |Asterisk     |Times         |Multiplication |\n",
    "|\\\"/\\\"   |Forward Slash|Divided by    |Division       |\n",
    "\n",
    "### Function (LaTex)\n",
    "\n",
    "------\n",
    "*Shaw, Z. A. (2017).* **Learn Python 3 The Hard Way** - A very simple introduction to the terrifyingly beautiful world of computers and code. Boston: Addison-Wesley."
   ]
  },
  {
   "cell_type": "code",
   "execution_count": 2,
   "metadata": {},
   "outputs": [
    {
     "name": "stdout",
     "output_type": "stream",
     "text": [
      "There are 100 cars available.\n",
      "There are only 30 drivers available.\n",
      "There will be 70 empty cars today.\n",
      "We can transport 120.0 people today.\n",
      "We have 90 to carpool today.\n",
      "We need to put about 3.0 in each car.\n"
     ]
    }
   ],
   "source": [
    "cars = 100\n",
    "space_in_a_car = 4.0\n",
    "drivers = 30\n",
    "passengers = 90\n",
    "cars_not_driven = cars - drivers\n",
    "cars_driven = drivers\n",
    "carpool_capacity = cars_driven * space_in_a_car\n",
    "average_passengers_per_car = passengers / cars_driven\n",
    "\n",
    "\n",
    "print(\"There are\",cars,\"cars available.\")\n",
    "print(\"There are only\",drivers,\"drivers available.\")\n",
    "print(\"There will be\",cars_not_driven,\"empty cars today.\")\n",
    "print(\"We can transport\",carpool_capacity,\"people today.\")\n",
    "print(\"We have\",passengers,\"to carpool today.\")\n",
    "print(\"We need to put about\",average_passengers_per_car,\"in each car.\")"
   ]
  }
 ],
 "metadata": {
  "kernelspec": {
   "display_name": "Python 3",
   "language": "python",
   "name": "python3"
  },
  "language_info": {
   "codemirror_mode": {
    "name": "ipython",
    "version": 3
   },
   "file_extension": ".py",
   "mimetype": "text/x-python",
   "name": "python",
   "nbconvert_exporter": "python",
   "pygments_lexer": "ipython3",
   "version": "3.7.3"
  }
 },
 "nbformat": 4,
 "nbformat_minor": 2
}
