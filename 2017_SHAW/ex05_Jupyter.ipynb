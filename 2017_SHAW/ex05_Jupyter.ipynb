{
 "cells": [
  {
   "cell_type": "markdown",
   "metadata": {},
   "source": [
    "# Ex.05 - More Variables & Printing\n",
    "------\n",
    "\n",
    "### General Instructions\n",
    "- Now we are going to learn how to use strings;\n",
    "- Everytime you put \" (double-quotes) around a piece of text you have been making a string;\n",
    "- You will learn how to make strings that have variables embedded in them using { (Curly brackets);\n",
    "- You must start the string with the \"f\" to **format** the string\n",
    "\n",
    "### Code Learned\n",
    "```python\n",
    "var = n\n",
    "print (f\"String{var}\") #\"f\" means format the string inserting some predefined \"var\" inside the (curly brackets).\n",
    "```\n",
    "\n",
    "### Math Operations\n",
    "\n",
    "| Symbol | Symbol name |Pronunciation | What it does? |\n",
    "|--------|:-----------:|-------------:|:-------------:|\n",
    "| \\\"=\\\"  |Equal to     |  Equals      |Equality       |\n",
    "| \\\"+\\\"  |Plus         |Plus          |Addition       |\n",
    "\n",
    "### Function (LaTex)\n",
    "\n",
    "------\n",
    "*Shaw, Z. A. (2017).* **Learn Python 3 The Hard Way** - A very simple introduction to the terrifyingly beautiful world of computers and code. Boston: Addison-Wesley."
   ]
  },
  {
   "cell_type": "code",
   "execution_count": 1,
   "metadata": {},
   "outputs": [
    {
     "name": "stdout",
     "output_type": "stream",
     "text": [
      "Let's talk about Zed A. Shaw.\n",
      "He's 74 inches tall.\n",
      "He's 180 pounds heavy.\n",
      "Actually that's not to heavy.\n",
      "He's got Blue eyes and Brown hair.\n",
      "His teeth are usually White depending on the coffee.\n",
      "If I add 35,74, and 180 I get 289.\n"
     ]
    }
   ],
   "source": [
    "name = 'Zed A. Shaw'\n",
    "age = 35 #not a lie\n",
    "height = 74 #inches\n",
    "weight = 180 #lbs\n",
    "eyes = 'Blue'\n",
    "teeth = 'White'\n",
    "hair = 'Brown'\n",
    "\n",
    "print(f\"Let's talk about {name}.\")\n",
    "print(f\"He's {height} inches tall.\")\n",
    "print(f\"He's {weight} pounds heavy.\")\n",
    "print(\"Actually that's not to heavy.\")\n",
    "print(f\"He's got {eyes} eyes and {hair} hair.\")\n",
    "print(f\"His teeth are usually {teeth} depending on the coffee.\")\n",
    "\n",
    "#this line is tricky, try to get it exactly right\n",
    "total = age + height + weight\n",
    "print(f\"If I add {age},{height}, and {weight} I get {total}.\")"
   ]
  },
  {
   "cell_type": "markdown",
   "metadata": {},
   "source": [
    "> **Study Drills**\n",
    "> - Convert inches and pounds to centimeters and kilograms"
   ]
  },
  {
   "cell_type": "code",
   "execution_count": 2,
   "metadata": {},
   "outputs": [
    {
     "name": "stdout",
     "output_type": "stream",
     "text": [
      "He's 187.96 cm tall.\n",
      "He's 81.64656 kg heavy.\n"
     ]
    }
   ],
   "source": [
    "height_cm = height * 2.54\n",
    "weight_kg = weight * 0.453592\n",
    "print(f\"He's {height_cm} cm tall.\")\n",
    "print(f\"He's {weight_kg} kg heavy.\")"
   ]
  }
 ],
 "metadata": {
  "kernelspec": {
   "display_name": "Python 3",
   "language": "python",
   "name": "python3"
  },
  "language_info": {
   "codemirror_mode": {
    "name": "ipython",
    "version": 3
   },
   "file_extension": ".py",
   "mimetype": "text/x-python",
   "name": "python",
   "nbconvert_exporter": "python",
   "pygments_lexer": "ipython3",
   "version": "3.7.3"
  }
 },
 "nbformat": 4,
 "nbformat_minor": 2
}
