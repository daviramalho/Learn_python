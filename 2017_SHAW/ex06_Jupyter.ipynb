{
 "cells": [
  {
   "cell_type": "markdown",
   "metadata": {},
   "source": [
    "# Ex.06 - Strings & Text\n",
    "------\n",
    "\n",
    "### General Instructions\n",
    "- You will learn how to make a bunch of variables with complex strings;\n",
    "- Python knows you want something to be a string when you put either \"(double-quotes) or '(single-quotes);\n",
    "- Strings can contain any number of variables;\n",
    "- We'll be using \"f-string\" to *format* the string;\n",
    "- *\"Python also has another kind of formatting using the .format() syntax (...). You'll see me use that sometimes when I want to apply a format to an already-created string, such as in a loop.\"* **(SHAW, 2017)**\n",
    "- Practice using short, abbreviated variable names.\n",
    "- Use \",\" (comma) inside the print command to separate different variables inside the function;\n",
    "\n",
    "### Code Learned\n",
    "```python\n",
    "var = x\n",
    "var2 = y\n",
    "var3 = \"Is it possible to put some third stuff here? {}.\"\n",
    "var4 = True\n",
    "print(f\"Some stuff here {var}\")\n",
    "print(f\"Some other stuff {var2}\")\n",
    "print(var3.format(var4))\n",
    "```\n",
    "\n",
    "### Math Operations\n",
    "\n",
    "| Symbol | Symbol name |Pronunciation | What it does? |\n",
    "|--------|:-----------:|-------------:|:-------------:|\n",
    "| \\\"=\\\"  |Equal to     |  Equals      |Equality       |\n",
    "| \\\"+\\\"  |Plus         |Plus          |Addition       |\n",
    "\n",
    "### Function (LaTex)\n",
    "\n",
    "------\n",
    "*Shaw, Z. A. (2017).* **Learn Python 3 The Hard Way** - A very simple introduction to the terrifyingly beautiful world of computers and code. Boston: Addison-Wesley."
   ]
  },
  {
   "cell_type": "code",
   "execution_count": 1,
   "metadata": {},
   "outputs": [
    {
     "name": "stdout",
     "output_type": "stream",
     "text": [
      "There are 10 types of people.\n",
      "Those who know binary and those who don't.\n",
      "I said: There are 10 types of people.\n",
      "I also said:'Those who know binary and those who don't.'\n",
      "Isn't that joke so funny?!False\n",
      "This is the left side of...a string with a right side.\n"
     ]
    }
   ],
   "source": [
    "types_of_people = 10\n",
    "x = f\"There are {types_of_people} types of people.\"\n",
    "\n",
    "binary = \"binary\"\n",
    "do_not = \"don't\"\n",
    "y = f\"Those who know {binary} and those who {do_not}.\"\n",
    "\n",
    "print(x)\n",
    "print(y)\n",
    "\n",
    "print(f\"I said: {x}\")\n",
    "print(f\"I also said:'{y}'\")\n",
    "\n",
    "hilarious = False\n",
    "joke_evaluation = \"Isn't that joke so funny?!{}\"\n",
    "\n",
    "print(joke_evaluation.format(hilarious))\n",
    "\n",
    "w = \"This is the left side of...\"\n",
    "e = \"a string with a right side.\"\n",
    "\n",
    "print(w + e)"
   ]
  },
  {
   "cell_type": "markdown",
   "metadata": {},
   "source": [
    "> **Study Drills**\n",
    "> - Apply the use of format commands with the creation of different strings:"
   ]
  },
  {
   "cell_type": "code",
   "execution_count": 2,
   "metadata": {},
   "outputs": [
    {
     "name": "stdout",
     "output_type": "stream",
     "text": [
      "This is the left side of... Test this weird string with Those who know binary and those who don't. a string with a right side.\n",
      "This is the left side of...This is the left side of...This is the left side of...This is the left side of...\n"
     ]
    }
   ],
   "source": [
    "z = \"Test this weird string with {}\"\n",
    "print(w, z.format(y), e)\n",
    "print(4 * w)"
   ]
  },
  {
   "cell_type": "code",
   "execution_count": 3,
   "metadata": {},
   "outputs": [
    {
     "name": "stdout",
     "output_type": "stream",
     "text": [
      "Some stuff here There are 10 types of people.\n",
      "Some other stuff Those who know binary and those who don't.\n",
      "Is it possible to put some third stuff here? True.\n"
     ]
    }
   ],
   "source": [
    "var = x\n",
    "var2 = y\n",
    "var3 = \"Is it possible to put some third stuff here? {}.\"\n",
    "var4 = True\n",
    "print(f\"Some stuff here {var}\")\n",
    "print(f\"Some other stuff {var2}\")\n",
    "print(var3.format(var4))"
   ]
  }
 ],
 "metadata": {
  "kernelspec": {
   "display_name": "Python 3",
   "language": "python",
   "name": "python3"
  },
  "language_info": {
   "codemirror_mode": {
    "name": "ipython",
    "version": 3
   },
   "file_extension": ".py",
   "mimetype": "text/x-python",
   "name": "python",
   "nbconvert_exporter": "python",
   "pygments_lexer": "ipython3",
   "version": "3.7.3"
  }
 },
 "nbformat": 4,
 "nbformat_minor": 2
}
