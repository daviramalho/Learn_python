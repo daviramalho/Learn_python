{
 "cells": [
  {
   "cell_type": "markdown",
   "metadata": {},
   "source": [
    "# Exercise 02 - Comments and Charp Characters\n",
    "------\n",
    "- You can use \"#\" before anything you type if you wish that to be ignored by python;\n",
    "- Use that to comment your code or disable parts of it.\n",
    "\n",
    ">**Note for the last Exercise:**\n",
    ">\n",
    "> 1. We learnt the \"Print\" Function:\n",
    ">\n",
    "\n",
    "```python\n",
    "print () #function\n",
    "```"
   ]
  },
  {
   "cell_type": "code",
   "execution_count": 3,
   "metadata": {},
   "outputs": [
    {
     "name": "stdout",
     "output_type": "stream",
     "text": [
      "This will run.\n",
      "I could have code like this.\n"
     ]
    }
   ],
   "source": [
    "print (\"This will run.\")\n",
    "\n",
    "# print (\"This won't run.\")\n",
    "# You can also use a comment to \"disable\" or comment ou code:\n",
    "\n",
    "print(\"I could have code like this.\") # and the comment after is ignored\n",
    "\n",
    "# Anything after the # is ignored by python.\n",
    "# A comment, this is so you can read your program later."
   ]
  },
  {
   "cell_type": "markdown",
   "metadata": {},
   "source": [
    "> **Exercises by:**\n",
    ">\n",
    "> **SHAW, Z.A.** *Learn Python 3 the hard way - A Very simple Introduction to the Terrifyingly Beautiful World of Computers Code.* Boston: Addison-Wesley, 2017."
   ]
  },
  {
   "cell_type": "markdown",
   "metadata": {},
   "source": [
    "#### Study Drills (signs and symbols):\n",
    "\n",
    "- Learn how to read and speak some important code symbols:\n",
    "\n",
    "|    Character     |   General Name        |  Name w/ Numbers   |   Name w/ Words   |\n",
    "|-----------------:|:---------------------:|:------------------:|:-----------------:|\n",
    "|\"#\"               |Hash mark,Pound sign   |-                   |-                  |\n",
    "|\"-\"               |Dash                   |-                   |hyphen             |\n",
    "|\"_\"               |Underscore             |-                   |-                  |\n",
    "|\"*\"               |Asterisk               |-                   |-                  |\n",
    "|\"@\"               |At sign                |-                   |-                  |\n",
    "|\"/\"               |Forward slash          |-                   |-                  |\n",
    "|\\\"\\\\\"             |Backslash              |-                   |-                  |\n",
    "|\"(\"  \")\"          |Parentheses            |-                   |-                  |\n",
    "|\"\\[\"  \"\\]\"        |Square brackets        |-                   |-                  |\n",
    "|\"{\"  \"}\"          |Curly brackets         |-                   |-                  |\n",
    "|\"<\"  \">\"          |Angle brackets         |-                   |-                  |\n",
    "|\"\\!\"              |Exclamation mark       |-                   |-                  |\n",
    "|\"\\\"\"              |Double quotation mark  |-                   |-                  |\n",
    "|\"\\'\"              |Single quotation mark  |-                   |Apostrophe         |\n",
    "|\",\"               |Comma                  |-                   |-                  |\n",
    "|\"&\"               |And Symbol/sign, Ampersand|-                |-                  |\n",
    "|\":\"|Colon|-|-|\n",
    "|\";\"|Semicolon|-|-|\n",
    "|\"\\|\"|Pipe, Vertical bar|-|-|\n",
    "|\"\\$\"|Dollar sign|-|-|\n",
    "|\"\\%\"|Percent sign|-|-|\n",
    "|\" \"|Space|-|-|"
   ]
  },
  {
   "cell_type": "code",
   "execution_count": null,
   "metadata": {},
   "outputs": [],
   "source": []
  }
 ],
 "metadata": {
  "kernelspec": {
   "display_name": "Python 3",
   "language": "python",
   "name": "python3"
  },
  "language_info": {
   "codemirror_mode": {
    "name": "ipython",
    "version": 3
   },
   "file_extension": ".py",
   "mimetype": "text/x-python",
   "name": "python",
   "nbconvert_exporter": "python",
   "pygments_lexer": "ipython3",
   "version": "3.7.3"
  }
 },
 "nbformat": 4,
 "nbformat_minor": 2
}
