{
 "cells": [
  {
   "cell_type": "markdown",
   "metadata": {},
   "source": [
    "# Ex.10 - What Was that?\n",
    "------\n",
    "\n",
    "### General Instructions\n",
    "- Write down, write down, write down! Don't use Ctrl+C/Ctrl+V!\n",
    "- Use \"\\n\" (backslash n) to put a new line character into the string at that point;\n",
    "- Use the \"\\\" (backslash) encodes difficult-to-type characters into a string;\n",
    "- These and other are known as \"Escape Sequences\"\n",
    "- Try other scape sequences in some strings to see if you can make them work.\n",
    "\n",
    "### Code Learned\n",
    "```python\n",
    "print(\"Something\\nSomething else.\")\n",
    "print(\"\"\"\n",
    "And the other thing\n",
    "Should be here\n",
    "Ignore this \\\" first\n",
    "\\tBut not:\n",
    "\\t* This one\n",
    "\\t* And this one\n",
    "\"\"\")\n",
    "```\n",
    "\n",
    "### Math Operations & Other Symbols\n",
    "\n",
    "| Symbol  |     Symbol name   |Pronunciation | What it does?            |\n",
    "|---------|:-----------------:|-------------:|:------------------------:|\n",
    "| \\\"\\\\n\\\" |Backslash + n      |-             |Jump lines inside string  |\n",
    "| \\\"\\\\t\\\" |Backslash + t      |-             |Write with a tab space|\n",
    "| \\\"\\\"\\\"  |Three double-quotes|-             |Write any qtty of lines in|\n",
    "| \\\"\\\\t*\\\"|Backslash + t + Asterisk|-             |Write with a tab space and an Asterisk|\n",
    "\n",
    "------\n",
    "*Shaw, Z. A. (2017).* **Learn Python 3 The Hard Way** - A very simple introduction to the terrifyingly beautiful world of computers and code. Boston: Addison-Wesley."
   ]
  },
  {
   "cell_type": "code",
   "execution_count": 1,
   "metadata": {},
   "outputs": [
    {
     "name": "stdout",
     "output_type": "stream",
     "text": [
      "\tI'm tabbed in.\n",
      "I'm split\n",
      "on a line.\n",
      "I'm \\a\\ cat.\n",
      "\n",
      "I'll do a list:\n",
      "\t* Cat food\n",
      "\t* Fishies\n",
      "\t* Catnip\n",
      "\t* Grass\n",
      "\n"
     ]
    }
   ],
   "source": [
    "tabby_cat = \"\\tI'm tabbed in.\"\n",
    "persian_cat = \"I'm split\\non a line.\"\n",
    "backslash_cat = \"I'm \\\\a\\\\ cat.\"\n",
    "\n",
    "fat_cat = \"\"\"\n",
    "I'll do a list:\n",
    "\\t* Cat food\n",
    "\\t* Fishies\n",
    "\\t* Catnip\\n\\t* Grass\n",
    "\"\"\"\n",
    "\n",
    "print(tabby_cat)\n",
    "print(persian_cat)\n",
    "print(backslash_cat)\n",
    "print(fat_cat)"
   ]
  },
  {
   "cell_type": "markdown",
   "metadata": {},
   "source": [
    "### Another Escape Sequences:\n",
    "\n",
    "|Escape      |What it does?                                                           |\n",
    "|------------|------------------------------------------------------------------------|\n",
    "|\\\\\\\\        |Backslash (\\\\)                                                          |\n",
    "|\\\\\\'        |Single-quote (\\')                                                       |\n",
    "|\\\\\\\"        |Double-quote (\\\")                                                       |\n",
    "|\\\\a         |ASCII bell (BEL)                                                        |\n",
    "|\\\\b         |ASCII backspace (BS)                                                    |\n",
    "|\\\\f         |ASCII formfeed (FF)                                                     |\n",
    "|\\\\n         |ASCII linefeed (LF)                                                     |\n",
    "|\\\\N{name}   |Character named name in the Unicode database (Unicode only)             |\n",
    "|\\\\r         |Carriage return (CR)                                                    |\n",
    "|\\\\t         |Horizontal tab (TAB)                                                    |\n",
    "|\\\\uxxxx     |Character with 16-bit hex value xxxx                                    |\n",
    "|\\\\Uxxxxxxxx |Character with 32-bit hex value xxxxxxxx                                |\n",
    "|\\\\v         |ASCII vertical tab (VT)                                                 |\n",
    "|\\\\ooo       |Character with octal value ooo                                          |\n",
    "|\\\\xhh       |Character with hex value hh                                             |"
   ]
  },
  {
   "cell_type": "markdown",
   "metadata": {},
   "source": [
    "> **Study Drills**\n",
    "> - Just apply what you've learned here;\n",
    "> - Make new flashcards with all the new stuff you learned till here;\n",
    "> - Write down a code (Create an Issue on GitHub) to apply everything you learned here in a real study case;\n",
    "> - Combine escape sequences and format strings to create a more complex format.\n",
    "> - Apply the same case inside the Grasshopper."
   ]
  },
  {
   "cell_type": "code",
   "execution_count": 2,
   "metadata": {},
   "outputs": [
    {
     "name": "stdout",
     "output_type": "stream",
     "text": [
      "Something\n",
      "Something else.\n",
      "\n",
      "And the other thing\n",
      "Should be here\n",
      "Ignore this \" first\n",
      "\tBut not:\n",
      "\t* This one\n",
      "\t* And this one\n",
      "\n"
     ]
    }
   ],
   "source": [
    "print(\"Something\\nSomething else.\")\n",
    "print(\"\"\"\n",
    "And the other thing\n",
    "Should be here\n",
    "Ignore this \\\" first\n",
    "\\tBut not:\n",
    "\\t* This one\n",
    "\\t* And this one\n",
    "\"\"\")"
   ]
  }
 ],
 "metadata": {
  "kernelspec": {
   "display_name": "Python 3",
   "language": "python",
   "name": "python3"
  },
  "language_info": {
   "codemirror_mode": {
    "name": "ipython",
    "version": 3
   },
   "file_extension": ".py",
   "mimetype": "text/x-python",
   "name": "python",
   "nbconvert_exporter": "python",
   "pygments_lexer": "ipython3",
   "version": "3.7.3"
  }
 },
 "nbformat": 4,
 "nbformat_minor": 2
}
