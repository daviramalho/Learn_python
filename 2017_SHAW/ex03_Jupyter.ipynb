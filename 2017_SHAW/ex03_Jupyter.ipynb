{
 "cells": [
  {
   "cell_type": "markdown",
   "metadata": {},
   "source": [
    "# Exercise 3. Numbers and math\n",
    "------\n",
    "- As you type the math symbols, say their names:\n",
    "\n",
    "|   Math Symbol   |   General Name   |   Operation   |\n",
    "|----------------:|:-----------------|---------------|\n",
    "|\\\"+\\\"|plus|addition|\n",
    "|\\\"-\\\"|minus|subtraction|\n",
    "|\"/\"|slash|division|\n",
    "|\"*\"|asterisk|multiplication|\n",
    "|\"%\"|percent|percentage|\n",
    "|\"<\"|less-than|less than|\n",
    "|\">\"|greater-than|greater than|\n",
    "|\"<=\"|less-than-equal|less than or equal to|\n",
    "|\">=\"|greater-than-equal|greater than or equal to|\n",
    "\n",
    "- Print the following code and try to understand how math works on python."
   ]
  },
  {
   "cell_type": "code",
   "execution_count": 1,
   "metadata": {},
   "outputs": [
    {
     "name": "stdout",
     "output_type": "stream",
     "text": [
      "I will now count my chickens.\n",
      "Hens 30.0\n",
      "Roosters 97\n",
      "Roosters 97.0\n",
      "Roosters 97.0\n",
      "Now I will count my eggs.\n",
      "6.75\n",
      "Is it true that 3+2<5-7?\n",
      "False\n",
      "What is 3+2? 5\n",
      "What is 5-7? -2\n",
      "Oh, that's why it's False.\n",
      "How about some more?\n",
      "Is it greater? True\n",
      "Is it greater or equal? True\n",
      "Is it less or equal? False\n"
     ]
    }
   ],
   "source": [
    "print(\"I will now count my chickens.\")\n",
    "\n",
    "print(\"Hens\",25+30/6)\n",
    "print(\"Roosters\",100-25*3%4)\n",
    "\n",
    "#This should print \"Roosters\" as a floating number:\n",
    "print(\"Roosters\",float(100-25*3%4))\n",
    "\n",
    "#This shoul work too\n",
    "print(\"Roosters\", 100.0-25*3%4)\n",
    "\n",
    "print(\"Now I will count my eggs.\")\n",
    "print(3+2+1-5+4%2-1/4+6)\n",
    "\n",
    "print(\"Is it true that 3+2<5-7?\")\n",
    "print(3+2<5-7)\n",
    "\n",
    "print(\"What is 3+2?\",3+2)\n",
    "print(\"What is 5-7?\",5-7)\n",
    "\n",
    "print(\"Oh, that's why it's False.\")\n",
    "print(\"How about some more?\")\n",
    "\n",
    "print(\"Is it greater?\",5>-2)\n",
    "print(\"Is it greater or equal?\",5>=-2)\n",
    "print(\"Is it less or equal?\",5<=-2)\n",
    "\n"
   ]
  },
  {
   "cell_type": "code",
   "execution_count": null,
   "metadata": {},
   "outputs": [],
   "source": []
  }
 ],
 "metadata": {
  "kernelspec": {
   "display_name": "Python 3",
   "language": "python",
   "name": "python3"
  },
  "language_info": {
   "codemirror_mode": {
    "name": "ipython",
    "version": 3
   },
   "file_extension": ".py",
   "mimetype": "text/x-python",
   "name": "python",
   "nbconvert_exporter": "python",
   "pygments_lexer": "ipython3",
   "version": "3.7.3"
  }
 },
 "nbformat": 4,
 "nbformat_minor": 2
}
