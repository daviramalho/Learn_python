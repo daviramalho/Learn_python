{
 "cells": [
  {
   "cell_type": "markdown",
   "metadata": {},
   "source": [
    "# Ex.08 - Printing, Printing\n",
    "------\n",
    "\n",
    "### General Instructions\n",
    "- Next we well do a more complicated fomatting of a string using \".format()\";\n",
    "- Try to make comments above each line;\n",
    "- Use the \"#\" to make comments.\n",
    "- You can jump the lines inside a parentheses (\"(\") by separating the variables with comma (\",\") as shown bellow.\n",
    "\n",
    "### Code Learned\n",
    "```python\n",
    "var=\"{} {} {} {}\"\n",
    "print(var.format('x', 'y', True, 4))\n",
    "print(var.format(\n",
    "    1,\n",
    "    2,\n",
    "    3,\n",
    "    4\n",
    "))\n",
    "```\n",
    "\n",
    "### Math Operations & Other Symbols\n",
    "\n",
    "| Symbol | Symbol name |Pronunciation | What it does? |\n",
    "|--------|:-----------:|-------------:|:-------------:|\n",
    "| \\\"(\\\"  |Parentheses     |  -      |-       |\n",
    "|\\\",\\\"|Comma|-|-|\n",
    "\n",
    "### Function (LaTex)\n",
    "\n",
    "------\n",
    "*Shaw, Z. A. (2017).* **Learn Python 3 The Hard Way** - A very simple introduction to the terrifyingly beautiful world of computers and code. Boston: Addison-Wesley."
   ]
  },
  {
   "cell_type": "code",
   "execution_count": 11,
   "metadata": {},
   "outputs": [
    {
     "name": "stdout",
     "output_type": "stream",
     "text": [
      "1 2 3 4\n",
      "One Two Three Four\n",
      "True False False True\n",
      "Try your Own text here Maybe a poem Or a song about fear\n"
     ]
    }
   ],
   "source": [
    "formatter = \"{} {} {} {}\"\n",
    "print(formatter.format(1, 2, 3, 4))\n",
    "print(formatter.format(\"One\",\"Two\",\"Three\",\"Four\"))\n",
    "print(formatter.format(True, False, False, True))\n",
    "print(formatter.format(\n",
    "    \"Try your\",\n",
    "    \"Own text here\",\n",
    "    \"Maybe a poem\",\n",
    "    \"Or a song about fear\"\n",
    "))"
   ]
  },
  {
   "cell_type": "markdown",
   "metadata": {},
   "source": [
    "> **Study Drills**\n",
    "> - Check what you've learned again:"
   ]
  },
  {
   "cell_type": "code",
   "execution_count": 12,
   "metadata": {},
   "outputs": [
    {
     "name": "stdout",
     "output_type": "stream",
     "text": [
      "x y True 4\n",
      "x y True 4\n",
      "1 2 3 4\n",
      "{} {} {} {} {} {} {} {} {} {} {} {} {} {} {} {}\n"
     ]
    }
   ],
   "source": [
    "var=\"{} {} {} {}\"\n",
    "print(var.format('x', 'y', True, 4))\n",
    "var=\"{} {} {} {}\"\n",
    "print(var.format('x', 'y', True, 4))\n",
    "print(var.format(\n",
    "    1,\n",
    "    2,\n",
    "    3,\n",
    "    4\n",
    "))\n",
    "print(var.format(var, var, var, var))"
   ]
  }
 ],
 "metadata": {
  "kernelspec": {
   "display_name": "Python 3",
   "language": "python",
   "name": "python3"
  },
  "language_info": {
   "codemirror_mode": {
    "name": "ipython",
    "version": 3
   },
   "file_extension": ".py",
   "mimetype": "text/x-python",
   "name": "python",
   "nbconvert_exporter": "python",
   "pygments_lexer": "ipython3",
   "version": "3.7.3"
  }
 },
 "nbformat": 4,
 "nbformat_minor": 2
}
